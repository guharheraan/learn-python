{
  "cells": [
    {
      "cell_type": "code",
      "execution_count": 8,
      "metadata": {
        "colab": {
          "base_uri": "https://localhost:8080/"
        },
        "id": "_C4C84rvL2oo",
        "outputId": "b929194a-97d7-4180-faa5-e71b311aa9f7"
      },
      "outputs": [
        {
          "name": "stdout",
          "output_type": "stream",
          "text": [
            "Muzamil, Python Book, 2025-08-10 00:00:00, 2025-08-24 00:00:00 (returned on time)\n",
            " Muzamil, Python Book, 2025-08-24 00:00:00 or not returned??\n",
            "Muzamil, Python Book, 2025-08-10 00:00:00, 2025-08-30 00:00:00 (returned on time)\n"
          ]
        }
      ],
      "source": [
        "from datetime import datetime\n",
        "\n",
        "def Liberary(user_name, book_name, borrow_date, return_date , Due_date):\n",
        "\n",
        "    borrow_date = datetime.strptime(borrow_date, \"%d-%m-%Y\")\n",
        "    Due_date = datetime.strptime(Due_date,\"%d-%m-%Y\")\n",
        "    return_date = datetime.strptime(return_date, \"%d-%m-%Y\") if return_date else None\n",
        "\n",
        "    if return_date:\n",
        "      if borrow_date < return_date:\n",
        "        print(f\"{user_name}, {book_name}, {borrow_date}, {return_date} (returned on time)\")\n",
        "      else:\n",
        "        print(f\"{user_name}, {book_name}, {borrow_date}, {return_date}  (returned late)\")\n",
        "    else:\n",
        "      print(f\" {user_name}, {book_name}, {Due_date} or not returned??\")\n",
        "\n",
        "Liberary(\"Muzamil\", \"Python Book\", \"10-08-2025\", \"24-08-2025\", \"25-08-2025\")\n",
        "Liberary(\"Muzamil\", \"Python Book\", \"10-08-2025\", None, \"24-08-2025\")\n",
        "Liberary(\"Muzamil\", \"Python Book\", \"10-08-2025\", \"30-08-2025\", \"25-08-2025\")\n",
        "\n",
        "\n"
      ]
    },
    {
      "cell_type": "code",
      "execution_count": 6,
      "metadata": {
        "colab": {
          "base_uri": "https://localhost:8080/"
        },
        "id": "Y7RxjESOYvYr",
        "outputId": "a2c35cf0-96e7-428d-d535-6900709f7a24"
      },
      "outputs": [
        {
          "ename": "ModuleNotFoundError",
          "evalue": "No module named 'numpy'",
          "output_type": "error",
          "traceback": [
            "\u001b[31m---------------------------------------------------------------------------\u001b[39m",
            "\u001b[31mModuleNotFoundError\u001b[39m                       Traceback (most recent call last)",
            "\u001b[36mCell\u001b[39m\u001b[36m \u001b[39m\u001b[32mIn[6]\u001b[39m\u001b[32m, line 1\u001b[39m\n\u001b[32m----> \u001b[39m\u001b[32m1\u001b[39m \u001b[38;5;28;01mimport\u001b[39;00m\u001b[38;5;250m \u001b[39m\u001b[34;01mnumpy\u001b[39;00m\u001b[38;5;250m \u001b[39m\u001b[38;5;28;01mas\u001b[39;00m\u001b[38;5;250m \u001b[39m\u001b[34;01mnp\u001b[39;00m\n\u001b[32m      3\u001b[39m np.array([[\u001b[32m1\u001b[39m,\u001b[32m2\u001b[39m,\u001b[32m3\u001b[39m], [\u001b[32m4\u001b[39m,\u001b[32m5\u001b[39m,\u001b[32m6\u001b[39m] , [\u001b[32m7\u001b[39m,\u001b[32m8\u001b[39m,\u001b[32m9\u001b[39m]])\n",
            "\u001b[31mModuleNotFoundError\u001b[39m: No module named 'numpy'"
          ]
        }
      ],
      "source": [
        "import numpy as np\n",
        "\n",
        "np.array([[1,2,3], [4,5,6] , [7,8,9]])"
      ]
    },
    {
      "cell_type": "code",
      "execution_count": 5,
      "metadata": {
        "colab": {
          "base_uri": "https://localhost:8080/",
          "height": 176
        },
        "id": "9HRPqvePZRFC",
        "outputId": "38839994-3a2e-4ccc-8d48-568881aeb459"
      },
      "outputs": [
        {
          "ename": "NameError",
          "evalue": "name 'np' is not defined",
          "output_type": "error",
          "traceback": [
            "\u001b[31m---------------------------------------------------------------------------\u001b[39m",
            "\u001b[31mNameError\u001b[39m                                 Traceback (most recent call last)",
            "\u001b[36mCell\u001b[39m\u001b[36m \u001b[39m\u001b[32mIn[5]\u001b[39m\u001b[32m, line 1\u001b[39m\n\u001b[32m----> \u001b[39m\u001b[32m1\u001b[39m my_random_number = \u001b[43mnp\u001b[49m.random.random(\u001b[32m3\u001b[39m,\u001b[32m3\u001b[39m)\n\u001b[32m      3\u001b[39m my_random_number\n",
            "\u001b[31mNameError\u001b[39m: name 'np' is not defined"
          ]
        }
      ],
      "source": [
        "my_random_number = np.random.random(3,3)\n",
        "\n",
        "my_random_number"
      ]
    },
    {
      "cell_type": "code",
      "execution_count": null,
      "metadata": {
        "id": "e6Z9YLK8dxUO"
      },
      "outputs": [],
      "source": []
    },
    {
      "cell_type": "code",
      "execution_count": 28,
      "metadata": {
        "colab": {
          "base_uri": "https://localhost:8080/"
        },
        "id": "fQr5xtSOaVpK",
        "outputId": "57364746-dfc6-4dcf-e655-97288b11998c"
      },
      "outputs": [
        {
          "data": {
            "text/plain": [
              "array([0.97419945, 0.48579179])"
            ]
          },
          "execution_count": 28,
          "metadata": {},
          "output_type": "execute_result"
        }
      ],
      "source": [
        "my_random_number[0:2,0]"
      ]
    },
    {
      "cell_type": "code",
      "execution_count": 33,
      "metadata": {
        "colab": {
          "base_uri": "https://localhost:8080/"
        },
        "id": "Te5NAOEZdybS",
        "outputId": "1a1e2deb-674b-4db3-f12d-022635cb4e8f"
      },
      "outputs": [
        {
          "name": "stdout",
          "output_type": "stream",
          "text": [
            "6\n",
            "6\n",
            "10\n",
            "6\n"
          ]
        }
      ],
      "source": [
        "x = 6\n",
        "print(x)\n",
        "\n",
        "y = x\n",
        "print(y)\n",
        "\n",
        "x = 10\n",
        "print(x)\n",
        "print(y)"
      ]
    }
  ],
  "metadata": {
    "colab": {
      "provenance": []
    },
    "kernelspec": {
      "display_name": "mlenv",
      "language": "python",
      "name": "python3"
    },
    "language_info": {
      "codemirror_mode": {
        "name": "ipython",
        "version": 3
      },
      "file_extension": ".py",
      "mimetype": "text/x-python",
      "name": "python",
      "nbconvert_exporter": "python",
      "pygments_lexer": "ipython3",
      "version": "3.13.7"
    }
  },
  "nbformat": 4,
  "nbformat_minor": 0
}
